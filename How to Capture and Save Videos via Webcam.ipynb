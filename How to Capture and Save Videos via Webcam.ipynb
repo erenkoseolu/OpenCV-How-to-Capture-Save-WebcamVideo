{
 "cells": [
  {
   "cell_type": "code",
   "execution_count": 16,
   "metadata": {},
   "outputs": [],
   "source": [
    "import cv2"
   ]
  },
  {
   "cell_type": "code",
   "execution_count": 24,
   "metadata": {},
   "outputs": [],
   "source": [
    "cap= cv2.VideoCapture(0)\n",
    "\n",
    "\n",
    "fileName = \"C:\\\\Users\\\\Lenovo\\\\Desktop\\\\Data_Mining\\\\webcam.avi\"\n",
    "codec = cv2.VideoWriter_fourcc('W', 'M', 'V', '2')\n",
    "frameRate = 30\n",
    "resolution = (640, 480)\n",
    "\n",
    "videoFileOutput = cv2.VideoWriter(fileName, codec, frameRate, resolution)\n",
    "\n",
    "while True:\n",
    "    ret, frame=cap.read()\n",
    "    frame= cv2.flip(frame,1)\n",
    "    videoFileOutput.write(frame)\n",
    "    cv2.imshow(\"WebcamLive\", frame)\n",
    "    if cv2.waitKey(50) & 0xFF ==ord(\"q\"):\n",
    "        break\n",
    "        \n",
    "videoFileOutput.release()\n",
    "cap.release()\n",
    "cv2.destroyAllWindows()"
   ]
  },
  {
   "cell_type": "code",
   "execution_count": null,
   "metadata": {},
   "outputs": [],
   "source": [
    " "
   ]
  }
 ],
 "metadata": {
  "kernelspec": {
   "display_name": "Python 3",
   "language": "python",
   "name": "python3"
  },
  "language_info": {
   "codemirror_mode": {
    "name": "ipython",
    "version": 3
   },
   "file_extension": ".py",
   "mimetype": "text/x-python",
   "name": "python",
   "nbconvert_exporter": "python",
   "pygments_lexer": "ipython3",
   "version": "3.6.10"
  }
 },
 "nbformat": 4,
 "nbformat_minor": 2
}
